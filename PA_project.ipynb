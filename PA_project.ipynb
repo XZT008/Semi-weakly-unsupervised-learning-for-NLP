{
 "cells": [
  {
   "cell_type": "markdown",
   "id": "79302828-003b-4380-b5ab-15b2b6085c8a",
   "metadata": {},
   "source": [
    "# PA Project (Semi weakly unsupervised learning for NLP) -- Xu Zhitong\n",
    "\n",
    "## Part 1 -- Weakly supervised learning\n",
    "### Import pre-trained BERT model(Scibert) from Huggingface. This served as a weakly supervised learning frame."
   ]
  },
  {
   "cell_type": "code",
   "execution_count": 1,
   "id": "975d1e58-3d79-4bf1-8e9b-7422d413eaad",
   "metadata": {},
   "outputs": [
    {
     "name": "stderr",
     "output_type": "stream",
     "text": [
      "C:\\Users\\xuzhi\\miniconda3\\envs\\tf_gpu\\lib\\site-packages\\tqdm\\auto.py:22: TqdmWarning: IProgress not found. Please update jupyter and ipywidgets. See https://ipywidgets.readthedocs.io/en/stable/user_install.html\n",
      "  from .autonotebook import tqdm as notebook_tqdm\n",
      "Some weights of the PyTorch model were not used when initializing the TF 2.0 model TFBertModel: ['cls.predictions.transform.LayerNorm.bias', 'cls.predictions.transform.dense.bias', 'cls.predictions.transform.LayerNorm.weight', 'cls.seq_relationship.weight', 'cls.seq_relationship.bias', 'cls.predictions.decoder.weight', 'cls.predictions.bias', 'cls.predictions.transform.dense.weight', 'cls.predictions.decoder.bias']\n",
      "- This IS expected if you are initializing TFBertModel from a PyTorch model trained on another task or with another architecture (e.g. initializing a TFBertForSequenceClassification model from a BertForPreTraining model).\n",
      "- This IS NOT expected if you are initializing TFBertModel from a PyTorch model that you expect to be exactly identical (e.g. initializing a TFBertForSequenceClassification model from a BertForSequenceClassification model).\n",
      "All the weights of TFBertModel were initialized from the PyTorch model.\n",
      "If your task is similar to the task the model of the checkpoint was trained on, you can already use TFBertModel for predictions without further training.\n"
     ]
    }
   ],
   "source": [
    "from transformers import BertTokenizer\n",
    "from transformers import TFBertModel\n",
    "\n",
    "model_name = \"allenai/scibert_scivocab_uncased\"\n",
    "model = TFBertModel.from_pretrained(model_name, from_pt=True)\n",
    "tokenizer = BertTokenizer.from_pretrained(model_name)"
   ]
  },
  {
   "cell_type": "markdown",
   "id": "06c7c6c4-7c8e-4eb4-9064-4a936c302a15",
   "metadata": {},
   "source": [
    "## Collect data from Arxiv using paper data.ipynb, then delete all latex notation inside."
   ]
  },
  {
   "cell_type": "code",
   "execution_count": 15,
   "id": "bc5d72ce-801b-4638-8c7f-cd3805c5cc19",
   "metadata": {},
   "outputs": [],
   "source": [
    "import pandas as pd\n",
    "\n",
    "df = pd.read_csv(\"paper data.csv\", index_col=0)\n",
    "df.groupby('category').describe()\n",
    "\n",
    "import numpy as np\n",
    "import sklearn\n",
    "import tensorflow as tf\n",
    "import re\n",
    "\n",
    "regex = r\"(\\$+)(?:(?!\\1)[\\s\\S])*\\1\"\n",
    "\n",
    "x = df['abstract'].to_numpy()\n",
    "y = df['category'].to_numpy()\n",
    "\n",
    "\n",
    "df['encoded_cat'] = df['category'].astype('category').cat.codes\n",
    "\n",
    "processed_x = []\n",
    "\n",
    "\n",
    "for t in x:\n",
    "    string_encode = t.encode(\"ascii\", \"ignore\")\n",
    "    t = string_encode.decode()\n",
    "    new_t = re.sub(regex, '', t)\n",
    "    new_t = new_t.replace('\\n', ' ')\n",
    "    processed_x.append(new_t)\n",
    "\n",
    "df['processed abstract'] = processed_x\n",
    "\n",
    "df.groupby('encoded_cat').describe()\n",
    "df.to_csv('processed_labeled.csv')"
   ]
  },
  {
   "cell_type": "code",
   "execution_count": 3,
   "id": "b4328111-0077-4278-a2ff-0f1659697a46",
   "metadata": {},
   "outputs": [
    {
     "data": {
      "text/plain": [
       "'Conventional object-stores are built on top of traditional OS storage stack, where I/O requests typically transfers through multiple hefty and redundant layers. The complexity of object management has grown dramatically with the ever increasing requirements of performance, consistency and fault-tolerance from storage subsystems. Simply stated, more number of intermediate layers are encountered in the I/O data path, with each passing layer adding its own syntax and semantics. Thereby increasing the overheads of request processing. In this paper, through comprehensive under-the-hood analysis of an object-storage node, we characterize the impact of object-store (and user-application) workloads on the OS I/O stack and its subsequent rippling effect on the underlying object-storage devices (OSD). We observe that the legacy architecture of the OS based I/O storage stack coupled with complex data management policies leads to a performance mismatch between what an end-storage device is capable of delivering and what it actually delivers in a production environment. Therefore, the gains derived from developing faster storage devices is often nullified. These issues get more pronounced in highly concurrent and multiplexed cloud environments. Owing to the associated issues of object-management and the vulnerabilities of the OS I/O software stacks, we discuss the potential of a new class of storage devices, known as Object-Drives. Samsung Key-Value SSD (KV-SSD) [1] and Seagate Kinetic Drive [2] are classic industrial implementations of object-drives, where host data management functionalities can be offloaded to the storage device. This leads towards the simplification of the over-all storage stack. Based on our analysis, we believe object-drives can alleviate object-stores from highly taxing overheads of data management with 20-38% time-savings over traditional Operating Systems (OS) stack.'"
      ]
     },
     "execution_count": 3,
     "metadata": {},
     "output_type": "execute_result"
    }
   ],
   "source": [
    "processed_x[0]"
   ]
  },
  {
   "cell_type": "markdown",
   "id": "018a8dc1-bb9e-4cb5-a7b9-ec6d7df02340",
   "metadata": {},
   "source": [
    "## Add attention mask and input ids for every abstract. Truncate to 256, and add special tokens like CLS and SEP"
   ]
  },
  {
   "cell_type": "code",
   "execution_count": 4,
   "id": "79086456-f616-4475-af9d-ed387912f871",
   "metadata": {},
   "outputs": [],
   "source": [
    "from tqdm import tqdm\n",
    "X_input_ids = np.zeros((len(df), 256))\n",
    "X_attn_masks = np.zeros((len(df), 256))\n",
    "\n",
    "def generate_training_data(df, ids, masks, tokenizer):\n",
    "    for i, text in tqdm(enumerate(df['processed abstract'])):\n",
    "        tokenized_text = tokenizer.encode_plus(\n",
    "            text,\n",
    "            max_length=256, \n",
    "            truncation=True, \n",
    "            padding='max_length', \n",
    "            add_special_tokens=True,\n",
    "            return_tensors='tf'\n",
    "        )\n",
    "        ids[i, :] = tokenized_text.input_ids\n",
    "        masks[i, :] = tokenized_text.attention_mask\n",
    "    return ids, masks"
   ]
  },
  {
   "cell_type": "code",
   "execution_count": 5,
   "id": "fb8ebd8e-c110-4be6-b6ae-cd18f70ab985",
   "metadata": {},
   "outputs": [
    {
     "name": "stderr",
     "output_type": "stream",
     "text": [
      "1400it [00:03, 404.75it/s]\n"
     ]
    }
   ],
   "source": [
    "X_input_ids, X_attn_masks = generate_training_data(df, X_input_ids, X_attn_masks, tokenizer)"
   ]
  },
  {
   "cell_type": "markdown",
   "id": "f08552be-1ce1-4b8b-a6e2-d2d7093ee49a",
   "metadata": {},
   "source": [
    "## Change labels from integer to one hot encoding "
   ]
  },
  {
   "cell_type": "code",
   "execution_count": 16,
   "id": "2df9cba0-eab5-4aa3-b64b-6d6b1efd42f2",
   "metadata": {},
   "outputs": [],
   "source": [
    "labels = np.zeros((len(df), 7))\n",
    "labels[np.arange(len(df)), df['encoded_cat'].values] = 1"
   ]
  },
  {
   "cell_type": "code",
   "execution_count": 17,
   "id": "feacb0ba-ec89-47ba-9ac9-b05319ebef09",
   "metadata": {},
   "outputs": [
    {
     "data": {
      "text/plain": [
       "array([[0., 1., 0., ..., 0., 0., 0.],\n",
       "       [0., 1., 0., ..., 0., 0., 0.],\n",
       "       [0., 1., 0., ..., 0., 0., 0.],\n",
       "       ...,\n",
       "       [0., 0., 0., ..., 1., 0., 0.],\n",
       "       [0., 0., 0., ..., 1., 0., 0.],\n",
       "       [0., 0., 0., ..., 1., 0., 0.]])"
      ]
     },
     "execution_count": 17,
     "metadata": {},
     "output_type": "execute_result"
    }
   ],
   "source": [
    "labels"
   ]
  },
  {
   "cell_type": "markdown",
   "id": "e715efd5-dd9c-4ab3-a5a9-f7d47fd45640",
   "metadata": {},
   "source": [
    "## Convert encoded abstracts and label together into tensorflow Dataset"
   ]
  },
  {
   "cell_type": "code",
   "execution_count": 8,
   "id": "f5189217-fb8d-4e7c-b371-fdbb35fd99f3",
   "metadata": {},
   "outputs": [
    {
     "data": {
      "text/plain": [
       "<TakeDataset shapes: ((256,), (256,), (7,)), types: (tf.float64, tf.float64, tf.float64)>"
      ]
     },
     "execution_count": 8,
     "metadata": {},
     "output_type": "execute_result"
    }
   ],
   "source": [
    "dataset = tf.data.Dataset.from_tensor_slices((X_input_ids, X_attn_masks, labels))\n",
    "dataset.take(1)"
   ]
  },
  {
   "cell_type": "code",
   "execution_count": 9,
   "id": "893a8ad2-273e-471b-b986-99d7bc6d0bff",
   "metadata": {},
   "outputs": [
    {
     "data": {
      "text/plain": [
       "<TakeDataset shapes: ({input_ids: (256,), attention_mask: (256,)}, (7,)), types: ({input_ids: tf.float64, attention_mask: tf.float64}, tf.float64)>"
      ]
     },
     "execution_count": 9,
     "metadata": {},
     "output_type": "execute_result"
    }
   ],
   "source": [
    "def MyMap(input_ids, attn_masks, labels):\n",
    "    return {\n",
    "        'input_ids': input_ids,\n",
    "        'attention_mask': attn_masks\n",
    "    }, labels\n",
    "\n",
    "dataset = dataset.map(MyMap)\n",
    "dataset.take(1)"
   ]
  },
  {
   "cell_type": "markdown",
   "id": "f9673e12-9865-483d-916e-e7dcc00d5e2d",
   "metadata": {},
   "source": [
    "## Shuffle Dataset and and them to dataloader with 80/20 train-test split"
   ]
  },
  {
   "cell_type": "code",
   "execution_count": 10,
   "id": "1482f9d8-2e52-462d-8959-418c53b77f49",
   "metadata": {},
   "outputs": [
    {
     "data": {
      "text/plain": [
       "<TakeDataset shapes: ({input_ids: (4, 256), attention_mask: (4, 256)}, (4, 7)), types: ({input_ids: tf.float64, attention_mask: tf.float64}, tf.float64)>"
      ]
     },
     "execution_count": 10,
     "metadata": {},
     "output_type": "execute_result"
    }
   ],
   "source": [
    "dataset = dataset.shuffle(10000).batch(4, drop_remainder=True)\n",
    "dataset.take(1)"
   ]
  },
  {
   "cell_type": "code",
   "execution_count": 11,
   "id": "91f26e3a-7e83-4fe2-b03d-720fd1c71ea4",
   "metadata": {},
   "outputs": [],
   "source": [
    "p = 0.8\n",
    "train_size = int((len(df)//4)*p)\n",
    "\n",
    "train_dataset = dataset.take(train_size)\n",
    "val_dataset = dataset.skip(train_size)"
   ]
  },
  {
   "cell_type": "markdown",
   "id": "4ac9c8e2-eebd-4db4-bf90-3738aa57af9d",
   "metadata": {},
   "source": [
    "## And input id layer, attention mask layer, BERT, and a fully connected layer of 512. Lastly a output layer of 7 with softmax activation"
   ]
  },
  {
   "cell_type": "code",
   "execution_count": 12,
   "id": "0f3a36d5-66d4-408d-843c-bea5297261b9",
   "metadata": {},
   "outputs": [
    {
     "name": "stdout",
     "output_type": "stream",
     "text": [
      "Model: \"model\"\n",
      "__________________________________________________________________________________________________\n",
      "Layer (type)                    Output Shape         Param #     Connected to                     \n",
      "==================================================================================================\n",
      "input_ids (InputLayer)          [(None, 256)]        0                                            \n",
      "__________________________________________________________________________________________________\n",
      "attention_mask (InputLayer)     [(None, 256)]        0                                            \n",
      "__________________________________________________________________________________________________\n",
      "bert (TFBertMainLayer)          TFBaseModelOutputWit 109918464   input_ids[0][0]                  \n",
      "                                                                 attention_mask[0][0]             \n",
      "__________________________________________________________________________________________________\n",
      "intermediate_layer (Dense)      (None, 512)          393728      bert[0][1]                       \n",
      "__________________________________________________________________________________________________\n",
      "output_layer (Dense)            (None, 7)            3591        intermediate_layer[0][0]         \n",
      "==================================================================================================\n",
      "Total params: 110,315,783\n",
      "Trainable params: 110,315,783\n",
      "Non-trainable params: 0\n",
      "__________________________________________________________________________________________________\n"
     ]
    }
   ],
   "source": [
    "input_ids = tf.keras.layers.Input(shape=(256,), name='input_ids', dtype='int32')\n",
    "attn_masks = tf.keras.layers.Input(shape=(256,), name='attention_mask', dtype='int32')\n",
    "\n",
    "bert_embds = model.bert(input_ids, attention_mask=attn_masks)[1] # 0 -> activation layer (3D), 1 -> pooled output layer (2D)\n",
    "intermediate_layer = tf.keras.layers.Dense(512, activation='relu', name='intermediate_layer')(bert_embds)\n",
    "output_layer = tf.keras.layers.Dense(7, activation='softmax', name='output_layer')(intermediate_layer) # softmax -> calcs probs of classes\n",
    "\n",
    "sci_classification_model = tf.keras.Model(inputs=[input_ids, attn_masks], outputs=output_layer)\n",
    "sci_classification_model.summary()"
   ]
  },
  {
   "cell_type": "code",
   "execution_count": 13,
   "id": "eed32ed3-0d42-4017-b2f2-a3ffcc31c93b",
   "metadata": {},
   "outputs": [],
   "source": [
    "optim = tf.keras.optimizers.Adam(learning_rate=1e-5, decay=1e-6)\n",
    "loss_func = tf.keras.losses.CategoricalCrossentropy()\n",
    "acc = tf.keras.metrics.TopKCategoricalAccuracy(k=1)"
   ]
  },
  {
   "cell_type": "markdown",
   "id": "aac184d2-7117-416e-b133-00138ed9f128",
   "metadata": {},
   "source": [
    "## Train this large capacity model with labeled data."
   ]
  },
  {
   "cell_type": "code",
   "execution_count": 14,
   "id": "4158197f-97ed-4073-9487-37e60df9e634",
   "metadata": {},
   "outputs": [
    {
     "name": "stdout",
     "output_type": "stream",
     "text": [
      "Epoch 1/10\n",
      "280/280 [==============================] - 64s 203ms/step - loss: 0.7280 - top_k_categorical_accuracy: 0.7848 - val_loss: 0.2358 - val_top_k_categorical_accuracy: 0.9179\n",
      "Epoch 2/10\n",
      "280/280 [==============================] - 47s 166ms/step - loss: 0.2170 - top_k_categorical_accuracy: 0.9295 - val_loss: 0.1466 - val_top_k_categorical_accuracy: 0.9679\n",
      "Epoch 3/10\n",
      "280/280 [==============================] - 47s 169ms/step - loss: 0.1163 - top_k_categorical_accuracy: 0.9661 - val_loss: 0.0480 - val_top_k_categorical_accuracy: 0.9893\n",
      "Epoch 4/10\n",
      "280/280 [==============================] - 47s 168ms/step - loss: 0.0597 - top_k_categorical_accuracy: 0.9821 - val_loss: 0.0447 - val_top_k_categorical_accuracy: 0.9750\n",
      "Epoch 5/10\n",
      "280/280 [==============================] - 47s 168ms/step - loss: 0.0311 - top_k_categorical_accuracy: 0.9911 - val_loss: 0.0167 - val_top_k_categorical_accuracy: 0.9929\n",
      "Epoch 6/10\n",
      "280/280 [==============================] - 47s 168ms/step - loss: 0.0308 - top_k_categorical_accuracy: 0.9937 - val_loss: 0.0030 - val_top_k_categorical_accuracy: 1.0000\n",
      "Epoch 7/10\n",
      "280/280 [==============================] - 48s 171ms/step - loss: 0.0160 - top_k_categorical_accuracy: 0.9955 - val_loss: 0.0041 - val_top_k_categorical_accuracy: 1.0000\n",
      "Epoch 8/10\n",
      "280/280 [==============================] - 47s 169ms/step - loss: 0.0048 - top_k_categorical_accuracy: 1.0000 - val_loss: 9.8233e-04 - val_top_k_categorical_accuracy: 1.0000\n",
      "Epoch 9/10\n",
      "280/280 [==============================] - 47s 168ms/step - loss: 0.0019 - top_k_categorical_accuracy: 1.0000 - val_loss: 9.0731e-04 - val_top_k_categorical_accuracy: 1.0000\n",
      "Epoch 10/10\n",
      "280/280 [==============================] - 48s 171ms/step - loss: 0.0013 - top_k_categorical_accuracy: 1.0000 - val_loss: 5.7291e-04 - val_top_k_categorical_accuracy: 1.0000\n"
     ]
    }
   ],
   "source": [
    "sci_classification_model.compile(optimizer=optim, loss=loss_func, metrics=[acc])\n",
    "\n",
    "hist = sci_classification_model.fit(\n",
    "    train_dataset,\n",
    "    validation_data=val_dataset,\n",
    "    epochs=10\n",
    ")"
   ]
  },
  {
   "cell_type": "code",
   "execution_count": 15,
   "id": "d9b9900e-2a7f-459b-8e85-8e7916eada5a",
   "metadata": {},
   "outputs": [
    {
     "name": "stderr",
     "output_type": "stream",
     "text": [
      "WARNING:absl:Found untraced functions such as embeddings_layer_call_fn, embeddings_layer_call_and_return_conditional_losses, encoder_layer_call_fn, encoder_layer_call_and_return_conditional_losses, pooler_layer_call_fn while saving (showing 5 of 1050). These functions will not be directly callable after loading.\n"
     ]
    },
    {
     "name": "stdout",
     "output_type": "stream",
     "text": [
      "INFO:tensorflow:Assets written to: sci_classification_model\\assets\n"
     ]
    },
    {
     "name": "stderr",
     "output_type": "stream",
     "text": [
      "INFO:tensorflow:Assets written to: sci_classification_model\\assets\n"
     ]
    }
   ],
   "source": [
    "sci_classification_model.save('sci_classification_model')"
   ]
  },
  {
   "cell_type": "markdown",
   "id": "10ab2f63-ecc6-45fd-bdcf-e5faa2c25b44",
   "metadata": {},
   "source": [
    "## Inference on unlabeled data"
   ]
  },
  {
   "cell_type": "code",
   "execution_count": 124,
   "id": "cd29202b-b51d-46e2-8f10-218d4ede9741",
   "metadata": {},
   "outputs": [],
   "source": [
    "large_capacity_model = tf.keras.models.load_model('sci_classification_model')\n",
    "unlabeled_abstract_df = pd.read_csv(\"all abstract large.csv\")\n",
    "unlabeled_abstract = unlabeled_abstract_df['abstract'].to_list()"
   ]
  },
  {
   "cell_type": "code",
   "execution_count": 125,
   "id": "718ce02c-4eb8-4230-9ccc-42e2d24603cd",
   "metadata": {},
   "outputs": [
    {
     "data": {
      "text/plain": [
       "\"this article has been withdrawn because it has been merged with the earlier article gct3 (arxiv: cs/0501076 [cs.cc]) in the series. the merged article is now available as:   geometric complexity theory iii: on deciding nonvanishing of a littlewood-richardson coefficient, journal of algebraic combinatorics, vol. 36, issue 1, 2012, pp. 103-110. (authors: ketan mulmuley, hari narayanan and milind sohoni)   the new article in this gct5 slot in the series is:   geometric complexity theory v: equivalence between blackbox derandomization of polynomial identity testing and derandomization of noether's normalization lemma, in the proceedings of focs 2012 (abstract), arxiv:1209.5993 [cs.cc] (full version) (author: ketan mulmuley)\""
      ]
     },
     "execution_count": 125,
     "metadata": {},
     "output_type": "execute_result"
    }
   ],
   "source": [
    "unlabeled_abstract[0]"
   ]
  },
  {
   "cell_type": "code",
   "execution_count": 128,
   "id": "1a15483d-55a7-4da2-b398-09e875e2e2ed",
   "metadata": {},
   "outputs": [
    {
     "name": "stderr",
     "output_type": "stream",
     "text": [
      "107275it [06:11, 289.10it/s]\n"
     ]
    }
   ],
   "source": [
    "def generate_prediction_data(abstract, ids, masks, tokenizer):\n",
    "    for i, text in tqdm(enumerate(abstract)):\n",
    "        token = tokenizer.encode_plus(\n",
    "            text,\n",
    "            max_length=256, \n",
    "            truncation=True, \n",
    "            padding='max_length', \n",
    "            add_special_tokens=True,\n",
    "            return_tensors='tf'\n",
    "        )\n",
    "        ids[i, :] = tf.cast(token.input_ids, tf.float64)\n",
    "        masks[i, :] = tf.cast(token.attention_mask, tf.float64)\n",
    "    return ids, masks\n",
    "\n",
    "\n",
    "prediction_input_ids = np.zeros((len(unlabeled_abstract_df), 256))\n",
    "prediction_attn_masks = np.zeros((len(unlabeled_abstract_df), 256))\n",
    "\n",
    "\n",
    "pred_input_ids, pred_attn_masks = generate_prediction_data(unlabeled_abstract, prediction_input_ids, prediction_attn_masks, tokenizer)\n",
    "\n",
    "prediction_dataset = tf.data.Dataset.from_tensor_slices((pred_input_ids, pred_attn_masks))\n",
    "\n",
    "def MyMap(input_ids, attn_masks):\n",
    "    return {\n",
    "        'input_ids': input_ids,\n",
    "        'attention_mask': attn_masks\n",
    "    }\n",
    "\n",
    "prediction_dataset = prediction_dataset.map(MyMap)\n",
    "prediction_dataset = prediction_dataset.batch(50, drop_remainder=True)\n",
    "\n",
    "predictions = large_capacity_model.predict(prediction_dataset)"
   ]
  },
  {
   "cell_type": "code",
   "execution_count": 129,
   "id": "ff16b224-589c-479c-bb24-9eadaca73fcc",
   "metadata": {},
   "outputs": [
    {
     "data": {
      "text/plain": [
       "array([[2.0751446e-05, 2.9008885e-04, 1.1985009e-04, 1.6847692e-04,\n",
       "        9.9895859e-01, 3.2496220e-04, 1.1729203e-04],\n",
       "       [5.3300257e-03, 5.9218812e-01, 3.7614650e-01, 1.9826228e-03,\n",
       "        1.4718196e-03, 6.0300184e-03, 1.6850961e-02],\n",
       "       [3.9829798e-03, 3.6297479e-01, 5.7720006e-01, 3.3404720e-03,\n",
       "        3.0334960e-03, 1.8416743e-03, 4.7626521e-02],\n",
       "       [5.8217184e-03, 5.3384036e-01, 2.4545614e-01, 3.8074043e-03,\n",
       "        4.7289790e-03, 2.8569645e-03, 2.0348841e-01],\n",
       "       [1.1899289e-04, 9.9832934e-01, 8.2672253e-05, 7.5762457e-04,\n",
       "        1.6161639e-04, 2.4831842e-04, 3.0141126e-04],\n",
       "       [1.3286025e-03, 1.4087663e-02, 9.7801995e-01, 7.1396073e-04,\n",
       "        5.4194726e-04, 7.7376887e-04, 4.5341654e-03],\n",
       "       [1.3143710e-03, 6.7139350e-02, 9.1399336e-01, 1.3839655e-03,\n",
       "        1.2932300e-03, 5.6855381e-04, 1.4307286e-02],\n",
       "       [3.4206673e-03, 9.5869958e-01, 1.9562954e-02, 8.6372113e-04,\n",
       "        8.8953465e-04, 2.2723817e-03, 1.4291101e-02],\n",
       "       [1.1983927e-04, 9.9784193e-05, 3.1871812e-05, 3.8910344e-05,\n",
       "        1.3361937e-04, 6.1519480e-05, 9.9951446e-01],\n",
       "       [9.1643721e-01, 4.9751916e-04, 2.8395516e-04, 3.0936656e-04,\n",
       "        1.5472260e-04, 4.1269179e-04, 8.1904575e-02]], dtype=float32)"
      ]
     },
     "execution_count": 129,
     "metadata": {},
     "output_type": "execute_result"
    }
   ],
   "source": [
    "predictions[200:210]"
   ]
  },
  {
   "cell_type": "code",
   "execution_count": 130,
   "id": "6a916cac-06cb-4dfa-8670-15f0d72722d3",
   "metadata": {},
   "outputs": [
    {
     "data": {
      "text/plain": [
       "(107250, 7)"
      ]
     },
     "execution_count": 130,
     "metadata": {},
     "output_type": "execute_result"
    }
   ],
   "source": [
    "predictions.shape"
   ]
  },
  {
   "cell_type": "markdown",
   "id": "64b3be78-401e-4626-baf4-7a35b2d308d8",
   "metadata": {},
   "source": [
    "## Part 2: top K accuracy for each category, K=1000. And serve those data with predictions back to student model"
   ]
  },
  {
   "cell_type": "code",
   "execution_count": 135,
   "id": "99c1abc5-bbbd-4ee7-82f6-3a6279c9deb4",
   "metadata": {},
   "outputs": [
    {
     "name": "stdout",
     "output_type": "stream",
     "text": [
      "0.9589703\n",
      "0.88336813\n",
      "0.9985216\n",
      "0.9630259\n",
      "0.99939835\n",
      "0.9823961\n",
      "0.9981273\n"
     ]
    }
   ],
   "source": [
    "def get_top_k(abstracts, scores, k):\n",
    "    sorted_scores = np.sort(scores)[::-1]\n",
    "    threshold = sorted_scores[k]\n",
    "    print(threshold)\n",
    "    top_k_abstracts = []\n",
    "    for index, score in enumerate(scores):\n",
    "        if(score >= threshold):\n",
    "            top_k_abstracts.append(abstracts[index])\n",
    "    return np.array(top_k_abstracts)[0:k]\n",
    "\n",
    "\n",
    "def get_top_k_final(prediction, unlabeled_abstract, k):\n",
    "    abstract_0 = get_top_k(unlabeled_abstract, prediction[:,0],k)\n",
    "    y_0 = np.zeros(7)\n",
    "    y_0[0] = 1\n",
    "    y_0_onehot = np.tile(y_0, [k, 1])\n",
    "    augmented_x = abstract_0\n",
    "    augmented_y = y_0_onehot\n",
    "    \n",
    "    for i in range(1, 7):\n",
    "        abstract = get_top_k(unlabeled_abstract, prediction[:,i],k)\n",
    "        y = np.zeros(7)\n",
    "        y[i] = 1\n",
    "        y_onehot = np.tile(y, [k, 1])\n",
    "        augmented_x = np.concatenate((augmented_x, abstract), axis=0)\n",
    "        augmented_y = np.concatenate((augmented_y, y_onehot), axis=0)\n",
    "    return augmented_x, augmented_y\n",
    "\n",
    "\n",
    "\n",
    "augmented_x, augmented_y = get_top_k_final(predictions, unlabeled_abstract, 10000)"
   ]
  },
  {
   "cell_type": "code",
   "execution_count": 145,
   "id": "22cfc83b-6de2-4f86-989c-7926fdcbe120",
   "metadata": {},
   "outputs": [
    {
     "data": {
      "text/plain": [
       "(70000, 7)"
      ]
     },
     "execution_count": 145,
     "metadata": {},
     "output_type": "execute_result"
    }
   ],
   "source": [
    "augmented_y.shape"
   ]
  },
  {
   "cell_type": "code",
   "execution_count": 144,
   "id": "9ea837a7-8206-46fa-bca8-c1ecd4a9c274",
   "metadata": {},
   "outputs": [
    {
     "data": {
      "text/plain": [
       "(70000,)"
      ]
     },
     "execution_count": 144,
     "metadata": {},
     "output_type": "execute_result"
    }
   ],
   "source": [
    "augmented_x.shape"
   ]
  },
  {
   "cell_type": "code",
   "execution_count": 146,
   "id": "d8470ac4-93ff-4db1-abc3-ba54c1c9f6f2",
   "metadata": {},
   "outputs": [],
   "source": [
    "index = np.argmax(augmented_y, axis=1)"
   ]
  },
  {
   "cell_type": "code",
   "execution_count": 149,
   "id": "5fc1c8ae-5d01-4204-a3c4-b67bfacbd3d5",
   "metadata": {},
   "outputs": [
    {
     "data": {
      "text/plain": [
       "0"
      ]
     },
     "execution_count": 149,
     "metadata": {},
     "output_type": "execute_result"
    }
   ],
   "source": [
    "index[1]"
   ]
  },
  {
   "cell_type": "code",
   "execution_count": 150,
   "id": "f4e8e9ac-fdba-4664-a078-1569a0975d87",
   "metadata": {},
   "outputs": [
    {
     "data": {
      "text/plain": [
       "array([1., 0., 0., 0., 0., 0., 0.])"
      ]
     },
     "execution_count": 150,
     "metadata": {},
     "output_type": "execute_result"
    }
   ],
   "source": [
    "augmented_y[1]"
   ]
  },
  {
   "cell_type": "code",
   "execution_count": 152,
   "id": "12f3d2a8-55b3-4d87-a7ea-3b6282dbf0cb",
   "metadata": {},
   "outputs": [
    {
     "data": {
      "text/plain": [
       "'we discuss a method for predicting financial movements and finding pockets of predictability in the price-series, which is built around inferring the heterogeneity of trading strategies in a multi-agent trader population. this work explores extensions to our previous framework (arxiv:physics/0506134). here we allow for more intelligent agents possessing a richer strategy set, and we no longer constrain the estimate for the heterogeneity of the agents to a probability space. we also introduce a scheme which allows the incorporation of models with a wide variety of agent types, and discuss a mechanism for the removal of bias from relevant parameters.'"
      ]
     },
     "execution_count": 152,
     "metadata": {},
     "output_type": "execute_result"
    }
   ],
   "source": [
    "augmented_x[1]"
   ]
  },
  {
   "cell_type": "code",
   "execution_count": 156,
   "id": "6d0e5835-ca11-4ebc-ab21-a74145ccbe57",
   "metadata": {},
   "outputs": [],
   "source": [
    "d = {'abstract':augmented_x, 'category':index}\n",
    "df_pred = pd.DataFrame(data=d)\n",
    "df_pred.to_csv('all predictions.csv')"
   ]
  },
  {
   "cell_type": "markdown",
   "id": "977d9a24-de33-490a-8b85-d2063b7183ab",
   "metadata": {},
   "source": [
    "## Part 3: Feed data learnt from teacher model(BERT) into student model(LSTM)"
   ]
  },
  {
   "cell_type": "code",
   "execution_count": 1,
   "id": "115836ad-0fb6-46c5-99cc-8e2bf1b14b17",
   "metadata": {},
   "outputs": [],
   "source": [
    "import pandas as pd\n",
    "import numpy as np\n",
    "\n",
    "def re_sample(df, k):\n",
    "    return df.groupby(\"category\").sample(n=k)\n",
    "\n",
    "df = pd.read_csv('all predictions.csv')\n",
    "\n",
    "k = 10000\n",
    "\n",
    "df_pred = re_sample(df, k)\n",
    "\n",
    "augmented_x = df_pred['abstract'].to_numpy()\n",
    "augmented_y = np.zeros((7*k, 7))\n",
    "augmented_y[np.arange(len(df_pred)), df_pred['category'].values] = 1"
   ]
  },
  {
   "cell_type": "code",
   "execution_count": 2,
   "id": "953cc13c-4433-4055-b90b-0a828fbb4c4b",
   "metadata": {},
   "outputs": [
    {
     "data": {
      "text/plain": [
       "(70000, 7)"
      ]
     },
     "execution_count": 2,
     "metadata": {},
     "output_type": "execute_result"
    }
   ],
   "source": [
    "augmented_y.shape"
   ]
  },
  {
   "cell_type": "code",
   "execution_count": 3,
   "id": "cabf78f7-ce7e-4479-936a-52ffcc953510",
   "metadata": {},
   "outputs": [
    {
     "data": {
      "text/plain": [
       "(70000,)"
      ]
     },
     "execution_count": 3,
     "metadata": {},
     "output_type": "execute_result"
    }
   ],
   "source": [
    "augmented_x.shape"
   ]
  },
  {
   "cell_type": "code",
   "execution_count": 4,
   "id": "82553b64-1e72-4555-8d92-30a5fac82087",
   "metadata": {},
   "outputs": [],
   "source": [
    "import numpy as np\n",
    "from nltk.corpus import stopwords\n",
    "import re\n",
    "\n",
    "regex = r\"(\\$+)(?:(?!\\1)[\\s\\S])*\\1\"\n",
    "STOPWORDS = set(stopwords.words('english'))\n",
    "\n",
    "processed_x = []\n",
    "processed_y = augmented_y\n",
    "\n",
    "for t in augmented_x:\n",
    "    string_encode = t.encode(\"ascii\", \"ignore\")\n",
    "    t = string_encode.decode()\n",
    "    new_t = re.sub(regex, '', t)\n",
    "    for word in STOPWORDS:\n",
    "        token = ' ' + word + ' '\n",
    "        new_t = new_t.replace(token, ' ')\n",
    "        new_t = new_t.replace(' ', ' ')\n",
    "    processed_x.append(new_t)\n"
   ]
  },
  {
   "cell_type": "code",
   "execution_count": 5,
   "id": "a7e2a356-8a39-48c1-a23d-78c6409d5015",
   "metadata": {},
   "outputs": [
    {
     "data": {
      "text/plain": [
       "70000"
      ]
     },
     "execution_count": 5,
     "metadata": {},
     "output_type": "execute_result"
    }
   ],
   "source": [
    "len(processed_x)"
   ]
  },
  {
   "cell_type": "code",
   "execution_count": 6,
   "id": "68ceaecd-4f74-44a1-9b77-a848ba8da8d3",
   "metadata": {},
   "outputs": [
    {
     "data": {
      "text/plain": [
       "(70000, 7)"
      ]
     },
     "execution_count": 6,
     "metadata": {},
     "output_type": "execute_result"
    }
   ],
   "source": [
    "processed_y.shape"
   ]
  },
  {
   "cell_type": "code",
   "execution_count": 7,
   "id": "6a2c6e34-4869-43e8-a45d-23d634fd473a",
   "metadata": {},
   "outputs": [],
   "source": [
    "from tensorflow.keras.preprocessing.text import Tokenizer\n",
    "from tensorflow.keras.preprocessing.sequence import pad_sequences\n",
    "import pickle\n",
    "import sklearn\n",
    "\n",
    "vocab_size = 10000\n",
    "embedding_dim = 256\n",
    "max_length = 180\n",
    "trunc_type = 'post'\n",
    "padding_type = 'post'\n",
    "oov_tok = '<OOV>'\n",
    "\n",
    "\n",
    "tokenizer = Tokenizer(num_words = vocab_size, oov_token=oov_tok, filters='!\"#$%&()*+,-./:;<=>?@[\\\\]^_`{|}~\\t\\n1234567890')\n",
    "tokenizer.fit_on_texts(processed_x)\n",
    "word_index = tokenizer.word_index\n",
    "\n",
    "with open('tokenizer_LSTM.pickle', 'wb') as handle:\n",
    "    pickle.dump(tokenizer, handle, protocol=pickle.HIGHEST_PROTOCOL)\n",
    "\n",
    "\n",
    "sequences = tokenizer.texts_to_sequences(processed_x)\n",
    "padded_x = pad_sequences(sequences, maxlen=max_length, padding=padding_type, truncating=trunc_type)\n",
    "\n",
    "X_train, X_test, y_train, y_test = sklearn.model_selection.train_test_split(padded_x, processed_y, test_size=0.30)"
   ]
  },
  {
   "cell_type": "code",
   "execution_count": 8,
   "id": "6d07cd6c-9128-48a5-a7f6-a08bf1219f12",
   "metadata": {},
   "outputs": [
    {
     "data": {
      "image/png": "[encoded data removed]",
      "text/plain": [
       "<Figure size 432x288 with 1 Axes>"
      ]
     },
     "metadata": {
      "needs_background": "light"
     },
     "output_type": "display_data"
    }
   ],
   "source": [
    "import matplotlib.pyplot as plt\n",
    "\n",
    "length_arr = []\n",
    "for i in sequences:\n",
    "    length_arr.append(len(i))\n",
    "\n",
    "plt.hist(length_arr, bins=150)\n",
    "plt.title('Abstract length and frequency')\n",
    "plt.xlabel('Length')\n",
    "plt.ylabel('Frequency')\n",
    "plt.show()"
   ]
  },
  {
   "cell_type": "code",
   "execution_count": 9,
   "id": "3b03850c-c0fb-46e6-8891-9ee2979ec91b",
   "metadata": {},
   "outputs": [
    {
     "data": {
      "text/plain": [
       "(70000, 180)"
      ]
     },
     "execution_count": 9,
     "metadata": {},
     "output_type": "execute_result"
    }
   ],
   "source": [
    "padded_x.shape"
   ]
  },
  {
   "cell_type": "code",
   "execution_count": 10,
   "id": "59cd905b-f8b1-4d3c-8c28-62d671c9582a",
   "metadata": {},
   "outputs": [
    {
     "name": "stdout",
     "output_type": "stream",
     "text": [
      "Model: \"model\"\n",
      "__________________________________________________________________________________________________\n",
      "Layer (type)                    Output Shape         Param #     Connected to                     \n",
      "==================================================================================================\n",
      "input_1 (InputLayer)            [(None, 180)]        0                                            \n",
      "__________________________________________________________________________________________________\n",
      "embedding (Embedding)           (None, 180, 256)     2560000     input_1[0][0]                    \n",
      "__________________________________________________________________________________________________\n",
      "bidirectional (Bidirectional)   [(None, 180, 512), ( 1050624     embedding[0][0]                  \n",
      "__________________________________________________________________________________________________\n",
      "concatenate (Concatenate)       (None, 512)          0           bidirectional[0][1]              \n",
      "                                                                 bidirectional[0][3]              \n",
      "__________________________________________________________________________________________________\n",
      "tf.expand_dims (TFOpLambda)     (None, 1, 512)       0           concatenate[0][0]                \n",
      "__________________________________________________________________________________________________\n",
      "attention (Attention)           (None, 1, 512)       0           tf.expand_dims[0][0]             \n",
      "                                                                 bidirectional[0][0]              \n",
      "__________________________________________________________________________________________________\n",
      "tf.__operators__.getitem (Slici (None, 512)          0           attention[0][0]                  \n",
      "__________________________________________________________________________________________________\n",
      "dense (Dense)                   (None, 256)          131328      tf.__operators__.getitem[0][0]   \n",
      "__________________________________________________________________________________________________\n",
      "dense_1 (Dense)                 (None, 7)            1799        dense[0][0]                      \n",
      "==================================================================================================\n",
      "Total params: 3,743,751\n",
      "Trainable params: 3,743,751\n",
      "Non-trainable params: 0\n",
      "__________________________________________________________________________________________________\n"
     ]
    }
   ],
   "source": [
    "import tensorflow as tf\n",
    "\n",
    "\n",
    "sequences_input = tf.keras.Input(shape=(180,))\n",
    "embeded_sequences = tf.keras.layers.Embedding(10000, 256)(sequences_input)\n",
    "\n",
    "(lstm_sequence, forward_h, forword_c, backward_h, backward_c) = tf.keras.layers.Bidirectional(tf.keras.layers.LSTM(256,return_sequences=True, return_state=True))(embeded_sequences)\n",
    "state_h = tf.keras.layers.Concatenate()([forward_h, backward_h])\n",
    "state_h_reshaped = tf.expand_dims(state_h, 1)\n",
    "weighted_lstm = tf.keras.layers.Attention()([state_h_reshaped, lstm_sequence])\n",
    "\n",
    "dense1 = tf.keras.layers.Dense(256, activation='relu')(weighted_lstm[:,0,:])\n",
    "output = tf.keras.layers.Dense(7, activation='softmax')(dense1)\n",
    "\n",
    "lstm_attention = tf.keras.Model(inputs=sequences_input, outputs=output)\n",
    "lstm_attention.summary()\n"
   ]
  },
  {
   "cell_type": "code",
   "execution_count": 11,
   "id": "b7b86644-fbd4-461b-90f6-25df8709b42f",
   "metadata": {},
   "outputs": [
    {
     "name": "stdout",
     "output_type": "stream",
     "text": [
      "Epoch 1/3\n",
      "96/96 [==============================] - 17s 135ms/step - loss: 1.0374 - top_k_categorical_accuracy: 0.5878 - val_loss: 0.2831 - val_top_k_categorical_accuracy: 0.9134\n",
      "Epoch 2/3\n",
      "96/96 [==============================] - 12s 130ms/step - loss: 0.1502 - top_k_categorical_accuracy: 0.9529 - val_loss: 0.1660 - val_top_k_categorical_accuracy: 0.9467\n",
      "Epoch 3/3\n",
      "96/96 [==============================] - 13s 131ms/step - loss: 0.0590 - top_k_categorical_accuracy: 0.9830 - val_loss: 0.1691 - val_top_k_categorical_accuracy: 0.9497\n"
     ]
    }
   ],
   "source": [
    "acc1 = tf.keras.metrics.TopKCategoricalAccuracy(k=1)\n",
    "optim = tf.keras.optimizers.Adam(learning_rate=1e-3, decay=1e-6)\n",
    "lstm_attention.compile(loss='categorical_crossentropy', optimizer=optim, metrics=[acc1])\n",
    "history = lstm_attention.fit(X_train, y_train, validation_data=(X_test, y_test), epochs=3, batch_size=512, verbose=1)"
   ]
  },
  {
   "cell_type": "code",
   "execution_count": 12,
   "id": "35a3ab54-079d-4376-ac1a-721c166631c8",
   "metadata": {},
   "outputs": [
    {
     "name": "stderr",
     "output_type": "stream",
     "text": [
      "WARNING:absl:Found untraced functions such as lstm_cell_1_layer_call_and_return_conditional_losses, lstm_cell_1_layer_call_fn, lstm_cell_2_layer_call_and_return_conditional_losses, lstm_cell_2_layer_call_fn, lstm_cell_1_layer_call_fn while saving (showing 5 of 10). These functions will not be directly callable after loading.\n"
     ]
    },
    {
     "name": "stdout",
     "output_type": "stream",
     "text": [
      "INFO:tensorflow:Assets written to: student model attention\\assets\n"
     ]
    },
    {
     "name": "stderr",
     "output_type": "stream",
     "text": [
      "INFO:tensorflow:Assets written to: student model attention\\assets\n"
     ]
    }
   ],
   "source": [
    "lstm_attention.save('student model attention')"
   ]
  },
  {
   "cell_type": "markdown",
   "id": "77478cf8-219a-46a9-b8ad-3c7d1dcadb0e",
   "metadata": {},
   "source": [
    "## Part 4: Fine tuning student model(LSTM) on labeled data. Only train on last few layer, since first layers are learning general features."
   ]
  },
  {
   "cell_type": "code",
   "execution_count": 34,
   "id": "d27dbf4d-cc58-4197-adf0-8d926ede55b8",
   "metadata": {},
   "outputs": [
    {
     "name": "stdout",
     "output_type": "stream",
     "text": [
      "Number of layers in the base model:  9\n"
     ]
    }
   ],
   "source": [
    "import tensorflow as tf\n",
    "\n",
    "base_model = tf.keras.models.load_model('student model attention')\n",
    "print(\"Number of layers in the base model: \", len(base_model.layers))"
   ]
  },
  {
   "cell_type": "code",
   "execution_count": 23,
   "id": "a72ddc87-77e1-48df-b55c-c84fc7e9a83a",
   "metadata": {},
   "outputs": [
    {
     "name": "stdout",
     "output_type": "stream",
     "text": [
      "Type of layer: embedding_5\n",
      "Type of layer: bidirectional_5\n"
     ]
    }
   ],
   "source": [
    "'''\n",
    "fine_tune_at = 2\n",
    "\n",
    "for layer in base_model.layers[:fine_tune_at]:\n",
    "    print(\"Type of layer:\", layer.name)\n",
    "    layer.trainable = False\n",
    "'''"
   ]
  },
  {
   "cell_type": "code",
   "execution_count": 35,
   "id": "a04d94da-c480-4e07-a752-4fbb76cb47e8",
   "metadata": {},
   "outputs": [],
   "source": [
    "import pickle\n",
    "from nltk.corpus import stopwords\n",
    "import re\n",
    "from tensorflow.keras.preprocessing.text import Tokenizer\n",
    "from tensorflow.keras.preprocessing.sequence import pad_sequences\n",
    "import pandas as pd\n",
    "\n",
    "vocab_size = 10000\n",
    "embedding_dim = 256\n",
    "max_length = 180\n",
    "trunc_type = 'post'\n",
    "padding_type = 'post'\n",
    "oov_tok = '<OOV>'\n",
    "regex = r\"(\\$+)(?:(?!\\1)[\\s\\S])*\\1\"\n",
    "STOPWORDS = set(stopwords.words('english'))\n",
    "\n",
    "fine_tune_df = pd.read_csv(\"processed_labeled.csv\", index_col=0)\n",
    "x = fine_tune_df['processed abstract'].to_list()\n",
    "y = labels\n",
    "\n",
    "processed_x = []\n",
    "\n",
    "for t in x:\n",
    "    string_encode = t.encode(\"ascii\", \"ignore\")\n",
    "    t = string_encode.decode()\n",
    "    new_t = re.sub(regex, '', t)\n",
    "    for word in STOPWORDS:\n",
    "        token = ' ' + word + ' '\n",
    "        new_t = new_t.replace(token, ' ')\n",
    "        new_t = new_t.replace(' ', ' ')\n",
    "    processed_x.append(new_t)\n",
    "\n",
    "\n",
    "with open('tokenizer_LSTM.pickle', 'rb') as handle:\n",
    "    LSTM_tokenizer = pickle.load(handle)    \n",
    "\n",
    "sequences = LSTM_tokenizer.texts_to_sequences(processed_x)\n",
    "padded_x = pad_sequences(sequences, maxlen=max_length, padding=padding_type, truncating=trunc_type)\n"
   ]
  },
  {
   "cell_type": "code",
   "execution_count": 36,
   "id": "2d20a600-92ec-42ad-9f95-3eabd4813e1d",
   "metadata": {},
   "outputs": [],
   "source": [
    "X_train, X_test, y_train, y_test = sklearn.model_selection.train_test_split(padded_x, y, test_size=0.40)"
   ]
  },
  {
   "cell_type": "code",
   "execution_count": 37,
   "id": "b2d4f384-8737-4c49-b4c8-26d96a3bcbaf",
   "metadata": {},
   "outputs": [
    {
     "name": "stdout",
     "output_type": "stream",
     "text": [
      "Epoch 1/4\n",
      "27/27 [==============================] - 7s 74ms/step - loss: 0.4293 - top_k_categorical_accuracy: 0.8702 - val_loss: 0.4469 - val_top_k_categorical_accuracy: 0.8875\n",
      "Epoch 2/4\n",
      "27/27 [==============================] - 1s 53ms/step - loss: 0.1332 - top_k_categorical_accuracy: 0.9619 - val_loss: 0.3701 - val_top_k_categorical_accuracy: 0.8786\n",
      "Epoch 3/4\n",
      "27/27 [==============================] - 1s 52ms/step - loss: 0.0550 - top_k_categorical_accuracy: 0.9869 - val_loss: 0.3567 - val_top_k_categorical_accuracy: 0.9107\n",
      "Epoch 4/4\n",
      "27/27 [==============================] - 1s 53ms/step - loss: 0.0135 - top_k_categorical_accuracy: 0.9964 - val_loss: 0.3864 - val_top_k_categorical_accuracy: 0.9071\n"
     ]
    }
   ],
   "source": [
    "initial_learning_rate = 0.001\n",
    "lr_schedule = tf.keras.optimizers.schedules.ExponentialDecay(\n",
    "    initial_learning_rate,\n",
    "    decay_steps=1000,\n",
    "    decay_rate=0.96,\n",
    "    staircase=True)\n",
    "\n",
    "callback = tf.keras.callbacks.EarlyStopping(monitor='val_loss', patience=2)\n",
    "acc1 = tf.keras.metrics.TopKCategoricalAccuracy(k=1)\n",
    "base_model.compile(loss='categorical_crossentropy', optimizer=tf.keras.optimizers.Adam(learning_rate=lr_schedule), metrics=[acc1])\n",
    "history = base_model.fit(X_train, y_train, epochs=4, validation_data=(X_test, y_test), verbose=1)"
   ]
  },
  {
   "cell_type": "code",
   "execution_count": 38,
   "id": "2895a0df-08c6-4c14-a28d-edceb7e6dcb7",
   "metadata": {},
   "outputs": [
    {
     "name": "stderr",
     "output_type": "stream",
     "text": [
      "WARNING:absl:Found untraced functions such as lstm_cell_10_layer_call_and_return_conditional_losses, lstm_cell_10_layer_call_fn, lstm_cell_11_layer_call_and_return_conditional_losses, lstm_cell_11_layer_call_fn, lstm_cell_10_layer_call_fn while saving (showing 5 of 10). These functions will not be directly callable after loading.\n"
     ]
    },
    {
     "name": "stdout",
     "output_type": "stream",
     "text": [
      "INFO:tensorflow:Assets written to: fine_tuned_student model attention\\assets\n"
     ]
    },
    {
     "name": "stderr",
     "output_type": "stream",
     "text": [
      "INFO:tensorflow:Assets written to: fine_tuned_student model attention\\assets\n"
     ]
    }
   ],
   "source": [
    "with open('LSTM_tokenizer.pickle', 'wb') as handle:\n",
    "    pickle.dump(LSTM_tokenizer, handle, protocol=pickle.HIGHEST_PROTOCOL)\n",
    "    \n",
    "base_model.save('fine_tuned_student model attention')"
   ]
  },
  {
   "cell_type": "markdown",
   "id": "03c4f696-460a-4af2-9fba-ddc5f2790759",
   "metadata": {},
   "source": [
    "## Result Demo"
   ]
  },
  {
   "cell_type": "code",
   "execution_count": 38,
   "id": "27271c9c-7215-4259-95b2-80d3c63d1a9b",
   "metadata": {},
   "outputs": [
    {
     "name": "stdout",
     "output_type": "stream",
     "text": [
      "0 --> Business, 1 --> CS, 2 --> eess, 3 --> math, 4 --> physics, 5 --> q-bio, 6 --> stat\n"
     ]
    }
   ],
   "source": [
    "test_abstract = [\"One of the most popular estimation methods in Bayesian neural networks (BNN) is mean-field variational inference (MFVI). In this work, we show that neural networks with ReLU activation function induce posteriors, that are hard to fit with MFVI. We provide a theoretical justification for this phenomenon, study it empirically, and report the results of a series of experiments to investigate the effect of activation function on the calibration of BNNs. We find that using Leaky ReLU activations leads to more Gaussian-like weight posteriors and achieves a lower expected calibration error (ECE) than its ReLU-based counterpart.\",\n",
    "                \"Due to the very narrow beam used in millimeter wave communication (mmWave), beam alignment (BA) is a critical issue. In this work, we investigate the issue of mmWave BA and present a novel beam alignment scheme on the basis of a machine learning strategy, Bayesian optimization (BO). In this context, we consider the beam alignment issue to be a black box function and then use BO to find the possible optimal beam pair. During the BA procedure, this strategy exploits information from the measured beam pairs to predict the best beam pair. In addition, we suggest a novel BO algorithm based on the gradient boosting regression tree model. The simulation results demonstrate the spectral efficiency performance of our proposed schemes for BA using three different surrogate models. They also demonstrate that the proposed schemes can achieve spectral efficiency with a small overhead when compared to the orthogonal match pursuit (OMP) algorithm and the Thompson sampling-based multi-armed bandit (TS-MAB) method.\",\n",
    "                \"We quantitatively describe the main events that led to the Terra project's failure in May 2022. We first review, in a systematic way, news from heterogeneous social media sources; we discuss the fragility of the Terra project and its vicious dependence on the Anchor protocol. We hence identify the crash's trigger events, analysing hourly and transaction data for Bitcoin, Luna, and TerraUSD. Finally, using state-of-the-art techniques from network science, we study the evolution of dependency structures for 61 highly capitalised cryptocurrencies during the down-market and highlight the absence of herding behaviour.\",\n",
    "                \"These notes shows how to do inference on the Demographic Parity (DP) metric. Although the metric is a complex statistic involving min and max computations, we propose a smooth approximation of those functions and derive its asymptotic distribution. The limit of these approximations and their gradients converge to those of the true max and min functions, wherever they exist. More importantly, when the true max and min functions are not differentiable, the approximations still are, and they provide valid asymptotic inference everywhere in the domain. We conclude with some directions on how to compute confidence intervals for DP, how to test if it is under 0.8 (the U.S. Equal Employment Opportunity Commission fairness threshold), and how to do inference in an A/B test.\",\n",
    "                \"Emerging markets such as India provide investors with returns far greater than those in developed markets; taking the average returns from the period 1995 to 2014 the returns are 4.714% to 3.276% of the developed market. The majority of emerging markets commenced joining with the capital market of the world, thus allowing a huge inflow of capital which in turn paved the path for economic growth. Even though the emerging markets provide high returns these may also be an indication of a bubble formation. Detection of a bubble is a tedious task primarily due to the fundamental value of the security being uncertain, and the randomness of the fundamentals of the market makes detecting bubbles an arduous task. Ratios that foretold the financial crisis of 2007- Market Capitalization to GDP, Price to Earnings Ratio, Price to Book Value, Tobins Q. Data is collected from 1999-2000 from various Indian indices such as NIFTY 50, NIFTY NEXT 50, NIFTY BANK, NIFTY 500 S and PBSE SENSEX, S and P BSE 100. The paper utilizes the ratios mentioned above to detect and backtrack various bubble episodes in the Indian market; the methodology used is the Philips et al 2015 right-tailed unit test. The paper is also inclined to take steps to mitigate the effects of a bubble by amending the financial policies and the monetary liquidity of the financial system.\"]\n",
    "\n",
    "with open('tokenizer_LSTM.pickle', 'rb') as handle:\n",
    "    tokenizer = pickle.load(handle)\n",
    "    \n",
    "processed_x_test = []\n",
    "\n",
    "for t in test_abstract:\n",
    "    string_encode = t.encode(\"ascii\", \"ignore\")\n",
    "    t = string_encode.decode()\n",
    "    new_t = re.sub(regex, '', t)\n",
    "    for word in STOPWORDS:\n",
    "        token = ' ' + word + ' '\n",
    "        new_t = new_t.replace(token, ' ')\n",
    "        new_t = new_t.replace(' ', ' ')\n",
    "    processed_x_test.append(new_t)\n",
    "    \n",
    "sequences_test = tokenizer.texts_to_sequences(processed_x_test)\n",
    "padded_x = pad_sequences(sequences_test, maxlen=max_length, padding=padding_type, truncating=trunc_type)\n",
    "    \n",
    "print(\"0 --> Business, 1 --> CS, 2 --> eess, 3 --> math, 4 --> physics, 5 --> q-bio, 6 --> stat\")\n",
    "predictions_test = base_model.predict(padded_x)"
   ]
  },
  {
   "cell_type": "code",
   "execution_count": 39,
   "id": "2009ac11-f1cf-4a7b-a4f7-38a8c47264ba",
   "metadata": {},
   "outputs": [
    {
     "name": "stdout",
     "output_type": "stream",
     "text": [
      "Stat\n",
      "EESS\n",
      "CS\n",
      "Stat\n",
      "Business\n"
     ]
    }
   ],
   "source": [
    "lookup = {0:'Business',1:'CS',2:'EESS', 3:'Math', 4:'Physics', 5:'Q-bio', 6:'Stat'}\n",
    "def print_label(pred):\n",
    "    index =  np.argmax(pred, axis=1)\n",
    "    for i in index:\n",
    "        print(lookup[i])\n",
    "\n",
    "print_label(predictions_test)"
   ]
  },
  {
   "cell_type": "markdown",
   "id": "a6ffa88a-d617-4bce-9397-e94fe112c41e",
   "metadata": {},
   "source": [
    "## visualization (Auto encoder VS T-sne vs PCA)"
   ]
  },
  {
   "cell_type": "code",
   "execution_count": 40,
   "id": "07ec0100-1d59-4e1b-b9d5-59f831da8064",
   "metadata": {},
   "outputs": [],
   "source": [
    "sequences = LSTM_tokenizer.texts_to_sequences(processed_x)\n",
    "padded_x = pad_sequences(sequences, maxlen=max_length, padding=padding_type, truncating=trunc_type)"
   ]
  },
  {
   "cell_type": "code",
   "execution_count": 47,
   "id": "e1881ee2-b43e-4c52-afb2-bb105b5d4753",
   "metadata": {},
   "outputs": [
    {
     "name": "stdout",
     "output_type": "stream",
     "text": [
      "dense_10\n",
      "Model: \"model_1\"\n",
      "_________________________________________________________________\n",
      "Layer (type)                 Output Shape              Param #   \n",
      "=================================================================\n",
      "embedding_5_input (InputLaye [(None, None)]            0         \n",
      "_________________________________________________________________\n",
      "embedding_5 (Embedding)      (None, None, 256)         2048000   \n",
      "_________________________________________________________________\n",
      "bidirectional_5 (Bidirection (None, 512)               1050624   \n",
      "_________________________________________________________________\n",
      "dense_10 (Dense)             (None, 256)               131328    \n",
      "=================================================================\n",
      "Total params: 3,229,952\n",
      "Trainable params: 3,229,952\n",
      "Non-trainable params: 0\n",
      "_________________________________________________________________\n"
     ]
    }
   ],
   "source": [
    "from keras.models import Model\n",
    "\n",
    "XX = base_model.input \n",
    "YY = base_model.layers[2].output\n",
    "print(base_model.layers[2].name)\n",
    "new_model = Model(XX, YY)\n",
    "new_model.summary()"
   ]
  },
  {
   "cell_type": "code",
   "execution_count": 48,
   "id": "2f85dff1-5848-4d78-8cba-e9e80282a8df",
   "metadata": {},
   "outputs": [],
   "source": [
    "intermediate_pred = new_model.predict(padded_x)"
   ]
  },
  {
   "cell_type": "code",
   "execution_count": 54,
   "id": "b58f6efb-af12-49f0-a35a-d9cfceb9317d",
   "metadata": {},
   "outputs": [
    {
     "data": {
      "text/plain": [
       "(1400, 256)"
      ]
     },
     "execution_count": 54,
     "metadata": {},
     "output_type": "execute_result"
    }
   ],
   "source": [
    "intermediate_pred.shape"
   ]
  },
  {
   "cell_type": "code",
   "execution_count": 73,
   "id": "108ac576-b32f-4c42-9187-6a3a2c0fd072",
   "metadata": {},
   "outputs": [
    {
     "name": "stdout",
     "output_type": "stream",
     "text": [
      "Epoch 1/50\n",
      "44/44 [==============================] - 1s 6ms/step - loss: 0.4464\n",
      "Epoch 2/50\n",
      "44/44 [==============================] - 0s 5ms/step - loss: 0.4088\n",
      "Epoch 3/50\n",
      "44/44 [==============================] - 0s 6ms/step - loss: 0.3993\n",
      "Epoch 4/50\n",
      "44/44 [==============================] - 0s 4ms/step - loss: 0.3729\n",
      "Epoch 5/50\n",
      "44/44 [==============================] - 0s 4ms/step - loss: 0.3335\n",
      "Epoch 6/50\n",
      "44/44 [==============================] - 0s 4ms/step - loss: 0.2576\n",
      "Epoch 7/50\n",
      "44/44 [==============================] - 0s 4ms/step - loss: 0.2031\n",
      "Epoch 8/50\n",
      "44/44 [==============================] - 0s 4ms/step - loss: 0.1790\n",
      "Epoch 9/50\n",
      "44/44 [==============================] - 0s 4ms/step - loss: 0.1660\n",
      "Epoch 10/50\n",
      "44/44 [==============================] - 0s 4ms/step - loss: 0.1563\n",
      "Epoch 11/50\n",
      "44/44 [==============================] - 0s 4ms/step - loss: 0.1483\n",
      "Epoch 12/50\n",
      "44/44 [==============================] - 0s 4ms/step - loss: 0.1452\n",
      "Epoch 13/50\n",
      "44/44 [==============================] - 0s 4ms/step - loss: 0.1431\n",
      "Epoch 14/50\n",
      "44/44 [==============================] - 0s 4ms/step - loss: 0.1407\n",
      "Epoch 15/50\n",
      "44/44 [==============================] - 0s 4ms/step - loss: 0.1392\n",
      "Epoch 16/50\n",
      "44/44 [==============================] - 0s 4ms/step - loss: 0.1377\n",
      "Epoch 17/50\n",
      "44/44 [==============================] - 0s 4ms/step - loss: 0.1359\n",
      "Epoch 18/50\n",
      "44/44 [==============================] - 0s 4ms/step - loss: 0.1360\n",
      "Epoch 19/50\n",
      "44/44 [==============================] - 0s 4ms/step - loss: 0.1364\n",
      "Epoch 20/50\n",
      "44/44 [==============================] - 0s 4ms/step - loss: 0.1341\n",
      "Epoch 21/50\n",
      "44/44 [==============================] - 0s 4ms/step - loss: 0.1332\n",
      "Epoch 22/50\n",
      "44/44 [==============================] - 0s 4ms/step - loss: 0.1330\n",
      "Epoch 23/50\n",
      "44/44 [==============================] - 0s 4ms/step - loss: 0.1324\n",
      "Epoch 24/50\n",
      "44/44 [==============================] - 0s 4ms/step - loss: 0.1321\n",
      "Epoch 25/50\n",
      "44/44 [==============================] - 0s 4ms/step - loss: 0.1324\n",
      "Epoch 26/50\n",
      "44/44 [==============================] - 0s 5ms/step - loss: 0.1320\n",
      "Epoch 27/50\n",
      "44/44 [==============================] - 0s 4ms/step - loss: 0.1318\n",
      "Epoch 28/50\n",
      "44/44 [==============================] - 0s 4ms/step - loss: 0.1315\n",
      "Epoch 29/50\n",
      "44/44 [==============================] - 0s 5ms/step - loss: 0.1316\n",
      "Epoch 30/50\n",
      "44/44 [==============================] - 0s 4ms/step - loss: 0.1313\n",
      "Epoch 31/50\n",
      "44/44 [==============================] - 0s 4ms/step - loss: 0.1314\n",
      "Epoch 32/50\n",
      "44/44 [==============================] - 0s 4ms/step - loss: 0.1315\n",
      "Epoch 33/50\n",
      "44/44 [==============================] - 0s 4ms/step - loss: 0.1311\n",
      "Epoch 34/50\n",
      "44/44 [==============================] - 0s 4ms/step - loss: 0.1285\n",
      "Epoch 35/50\n",
      "44/44 [==============================] - 0s 4ms/step - loss: 0.1268\n",
      "Epoch 36/50\n",
      "44/44 [==============================] - 0s 4ms/step - loss: 0.1265\n",
      "Epoch 37/50\n",
      "44/44 [==============================] - 0s 4ms/step - loss: 0.1264\n",
      "Epoch 38/50\n",
      "44/44 [==============================] - 0s 4ms/step - loss: 0.1262\n",
      "Epoch 39/50\n",
      "44/44 [==============================] - 0s 4ms/step - loss: 0.1261\n",
      "Epoch 40/50\n",
      "44/44 [==============================] - 0s 4ms/step - loss: 0.1259\n",
      "Epoch 41/50\n",
      "44/44 [==============================] - 0s 4ms/step - loss: 0.1260\n",
      "Epoch 42/50\n",
      "44/44 [==============================] - 0s 4ms/step - loss: 0.1260\n",
      "Epoch 43/50\n",
      "44/44 [==============================] - 0s 4ms/step - loss: 0.1260\n",
      "Epoch 44/50\n",
      "44/44 [==============================] - 0s 4ms/step - loss: 0.1258\n",
      "Epoch 45/50\n",
      "44/44 [==============================] - 0s 4ms/step - loss: 0.1258\n",
      "Epoch 46/50\n",
      "44/44 [==============================] - 0s 4ms/step - loss: 0.1237\n",
      "Epoch 47/50\n",
      "44/44 [==============================] - 0s 4ms/step - loss: 0.1234\n",
      "Epoch 48/50\n",
      "44/44 [==============================] - 0s 4ms/step - loss: 0.1231\n",
      "Epoch 49/50\n",
      "44/44 [==============================] - 0s 4ms/step - loss: 0.1231\n",
      "Epoch 50/50\n",
      "44/44 [==============================] - 0s 4ms/step - loss: 0.1236\n"
     ]
    },
    {
     "data": {
      "text/plain": [
       "<keras.callbacks.History at 0x1c0c441b5e0>"
      ]
     },
     "execution_count": 73,
     "metadata": {},
     "output_type": "execute_result"
    }
   ],
   "source": [
    "class AUTOENCODER(Model):\n",
    "    def __init__(self):\n",
    "        super(AUTOENCODER, self).__init__()\n",
    "        self.encoder = tf.keras.Sequential([\n",
    "            tf.keras.layers.Input(shape=(256,)),\n",
    "            tf.keras.layers.Dense(128, activation='relu'),\n",
    "            tf.keras.layers.Dense(64, activation='relu'),\n",
    "            tf.keras.layers.Dense(2, activation='relu'),\n",
    "            ])\n",
    "\n",
    "        self.decoder = tf.keras.Sequential([\n",
    "            tf.keras.layers.Dense(64, activation='relu'),\n",
    "            tf.keras.layers.Dense(128, activation='relu'),\n",
    "            tf.keras.layers.Dense(256, activation='relu')])\n",
    "\n",
    "    def call(self, x):\n",
    "        encoded = self.encoder(x)\n",
    "        decoded = self.decoder(encoded)\n",
    "        return decoded\n",
    "\n",
    "autoencoder = AUTOENCODER()\n",
    "\n",
    "autoencoder.compile(optimizer='adam', loss='mse')\n",
    "autoencoder.fit(intermediate_pred, intermediate_pred,\n",
    "                epochs=50,\n",
    "                shuffle=True,\n",
    "                verbose=1)"
   ]
  },
  {
   "cell_type": "code",
   "execution_count": 76,
   "id": "58ec26e1-4cb1-48e2-9870-40c23ae76715",
   "metadata": {},
   "outputs": [
    {
     "name": "stdout",
     "output_type": "stream",
     "text": [
      "dense_79\n",
      "Model: \"model_3\"\n",
      "_________________________________________________________________\n",
      "Layer (type)                 Output Shape              Param #   \n",
      "=================================================================\n",
      "input_12 (InputLayer)        [(None, 256)]             0         \n",
      "_________________________________________________________________\n",
      "dense_77 (Dense)             (None, 128)               32896     \n",
      "_________________________________________________________________\n",
      "dense_78 (Dense)             (None, 64)                8256      \n",
      "_________________________________________________________________\n",
      "dense_79 (Dense)             (None, 2)                 130       \n",
      "=================================================================\n",
      "Total params: 41,282\n",
      "Trainable params: 41,282\n",
      "Non-trainable params: 0\n",
      "_________________________________________________________________\n"
     ]
    }
   ],
   "source": [
    "ae_XX = autoencoder.encoder.input \n",
    "ae_YY = autoencoder.encoder.layers[2].output\n",
    "print(autoencoder.encoder.layers[2].name)\n",
    "ae_mid = Model(ae_XX, ae_YY)\n",
    "ae_mid.summary()"
   ]
  },
  {
   "cell_type": "code",
   "execution_count": 78,
   "id": "fc9b5013-87de-4f73-9116-c07a0e83eef7",
   "metadata": {},
   "outputs": [],
   "source": [
    "ae_compressed = ae_mid.predict(intermediate_pred)"
   ]
  },
  {
   "cell_type": "code",
   "execution_count": 88,
   "id": "6c5389bd-45c1-486a-b0bf-809ecc0e0a5e",
   "metadata": {},
   "outputs": [
    {
     "data": {
      "text/plain": [
       "(1400, 2)"
      ]
     },
     "execution_count": 88,
     "metadata": {},
     "output_type": "execute_result"
    }
   ],
   "source": [
    "ae_compressed.shape"
   ]
  },
  {
   "cell_type": "code",
   "execution_count": 95,
   "id": "69fb859e-b5a8-4305-92d0-fac8219e1b94",
   "metadata": {},
   "outputs": [
    {
     "data": {
      "image/png": "[encoded data removed]",
      "text/plain": [
       "<Figure size 432x288 with 1 Axes>"
      ]
     },
     "metadata": {
      "needs_background": "light"
     },
     "output_type": "display_data"
    }
   ],
   "source": [
    "import matplotlib.pyplot as plt\n",
    "\n",
    "lookup_1 = {0:'CS',1:'Business',2:'EESS', 3:'Math', 4:'Q-bio', 5:'Stat', 6:'Physics'}\n",
    "color = ['tab:blue', 'tab:orange', 'tab:green', 'tab:red', 'tab:purple', 'tab:brown', 'tab:olive']\n",
    "\n",
    "ae_compressed_x = ae_compressed[:,0]\n",
    "ae_compressed_y = ae_compressed[:,1]\n",
    "\n",
    "for i in range(7):\n",
    "    cat = lookup_1[i]\n",
    "    plt.scatter(ae_compressed_x[i*200:i*200+200], ae_compressed_y[i*200:i*200+200],\n",
    "               c=color[i], label=lookup_1[i])\n",
    "\n",
    "plt.title(\"Auto encoder compress\")\n",
    "plt.legend()\n",
    "plt.savefig('AE.pdf')\n",
    "plt.show()"
   ]
  },
  {
   "cell_type": "markdown",
   "id": "a0624ff5-ba5e-4f46-9d34-0dc96596b088",
   "metadata": {},
   "source": [
    "## T-sne"
   ]
  },
  {
   "cell_type": "code",
   "execution_count": 96,
   "id": "c5d8ee33-f55f-4c76-a471-b677520e9392",
   "metadata": {},
   "outputs": [],
   "source": [
    "import numpy as np\n",
    "from sklearn.manifold import TSNE\n",
    "\n",
    "tsne_compressd = TSNE(n_components=2, learning_rate='auto', init='random').fit_transform(intermediate_pred)"
   ]
  },
  {
   "cell_type": "code",
   "execution_count": 97,
   "id": "242071ab-cda0-4a86-a424-7ea0b9b00996",
   "metadata": {},
   "outputs": [
    {
     "data": {
      "text/plain": [
       "(1400, 2)"
      ]
     },
     "execution_count": 97,
     "metadata": {},
     "output_type": "execute_result"
    }
   ],
   "source": [
    "tsne_compressd.shape"
   ]
  },
  {
   "cell_type": "code",
   "execution_count": 100,
   "id": "10e98122-df3d-4b7e-9182-1c24d7a4fa13",
   "metadata": {},
   "outputs": [
    {
     "data": {
      "image/png": "[encoded data removed]",
      "text/plain": [
       "<Figure size 432x288 with 1 Axes>"
      ]
     },
     "metadata": {
      "needs_background": "light"
     },
     "output_type": "display_data"
    }
   ],
   "source": [
    "for i in range(7):\n",
    "    cat = lookup_1[i]\n",
    "    plt.scatter(tsne_compressd[:,0][i*200:i*200+200], tsne_compressd[:,1][i*200:i*200+200],\n",
    "               c=color[i], label=lookup_1[i])\n",
    "\n",
    "plt.title(\"Tsne compress\")\n",
    "plt.legend()\n",
    "plt.savefig('Tsne.pdf')\n",
    "plt.show()"
   ]
  },
  {
   "cell_type": "markdown",
   "id": "4db4582a-bd41-4bfa-bf90-a4d3b2a1d667",
   "metadata": {},
   "source": [
    "## PCA"
   ]
  },
  {
   "cell_type": "code",
   "execution_count": 104,
   "id": "1a5cb655-d307-4e60-8196-a4ef2145d69c",
   "metadata": {},
   "outputs": [],
   "source": [
    "from sklearn.decomposition import PCA\n",
    "\n",
    "pca = PCA(n_components=2)\n",
    "pca_compressed = pca.fit_transform(intermediate_pred)"
   ]
  },
  {
   "cell_type": "code",
   "execution_count": 105,
   "id": "04d37817-79fe-45c4-912e-5fe78a6e12c7",
   "metadata": {},
   "outputs": [
    {
     "data": {
      "text/plain": [
       "(1400, 2)"
      ]
     },
     "execution_count": 105,
     "metadata": {},
     "output_type": "execute_result"
    }
   ],
   "source": [
    "pca_compressed.shape"
   ]
  },
  {
   "cell_type": "code",
   "execution_count": 106,
   "id": "caf0a0f6-a01e-4828-ad8b-88df94d69445",
   "metadata": {},
   "outputs": [
    {
     "data": {
      "image/png": "[encoded data removed]",
      "text/plain": [
       "<Figure size 432x288 with 1 Axes>"
      ]
     },
     "metadata": {
      "needs_background": "light"
     },
     "output_type": "display_data"
    }
   ],
   "source": [
    "for i in range(7):\n",
    "    cat = lookup_1[i]\n",
    "    plt.scatter(pca_compressed[:,0][i*200:i*200+200], pca_compressed[:,1][i*200:i*200+200],\n",
    "               c=color[i], label=lookup_1[i])\n",
    "\n",
    "plt.title(\"PCA compress\")\n",
    "plt.legend()\n",
    "plt.savefig('PCA.pdf')\n",
    "plt.show()"
   ]
  },
  {
   "cell_type": "code",
   "execution_count": null,
   "id": "ee27acba-8557-4d6f-bb31-16fc8f304788",
   "metadata": {},
   "outputs": [],
   "source": []
  }
 ],
 "metadata": {
  "kernelspec": {
   "display_name": "tf-gpu",
   "language": "python",
   "name": "tf-gpu"
  },
  "language_info": {
   "codemirror_mode": {
    "name": "ipython",
    "version": 3
   },
   "file_extension": ".py",
   "mimetype": "text/x-python",
   "name": "python",
   "nbconvert_exporter": "python",
   "pygments_lexer": "ipython3",
   "version": "3.9.7"
  }
 },
 "nbformat": 4,
 "nbformat_minor": 5
}
